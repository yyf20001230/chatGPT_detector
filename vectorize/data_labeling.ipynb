{
 "cells": [
  {
   "cell_type": "code",
   "execution_count": 32,
   "metadata": {},
   "outputs": [
    {
     "name": "stdout",
     "output_type": "stream",
     "text": [
      "Files processed: ['test01.txt', 'test02.txt', 'test.txt']\n",
      "\n",
      "{'file_name': 'test01.txt', 'total word counts': 42, 'unique word counts': 35, 'number of sentences': 2, 'average length of sentences (characters)': 139.5, 'average length of sentences (words)': 21, 'special characters': 3}\n",
      "\n",
      "{'file_name': 'test02.txt', 'total word counts': 41, 'unique word counts': 33, 'number of sentences': 3, 'average length of sentences (characters)': 92.33333333333333, 'average length of sentences (words)': 13.666666666666666, 'special characters': 4}\n",
      "\n",
      "{'file_name': 'test.txt', 'total word counts': 11, 'unique word counts': 8, 'number of sentences': 1, 'average length of sentences (characters)': 38.0, 'average length of sentences (words)': 11, 'special characters': 2}\n",
      "\n",
      "===== 3 files processed, total time taken: 0.0011248588562011719s =====\n"
     ]
    }
   ],
   "source": [
    "import os\n",
    "import nltk\n",
    "nltk.download('punkt')\n",
    "from nltk.tokenize import sent_tokenize\n",
    "from statistics import mean \n",
    "\n",
    "def read_text(src = None, filetype = 'txt'):\n",
    "    \"\"\"\n",
    "    this function reads all txt files under specified dir\n",
    "    and does some corresponding feature engineering (see readme for an exhaustive list) \n",
    "    output is a list of dicts, with each dict containing relevant features\n",
    "    \"\"\"\n",
    "    \n",
    "    def word_count(str):\n",
    "        \"\"\"\n",
    "        turns a string into counts, return a dict\n",
    "        \"\"\"\n",
    "        counts = dict()\n",
    "        words = str.split()\n",
    "        for word in words:\n",
    "            counts[word] = counts.get(word, 0) + 1\n",
    "        return counts\n",
    "\n",
    "    wd = os.getcwd() if src != None else src\n",
    "    files = [f for f in os.listdir(wd) if f.endswith(filetype)]\n",
    "    extracted = [{} for f in files]\n",
    "\n",
    "    for i in range(len(files)):\n",
    "        \n",
    "        f = files[i]\n",
    "        \n",
    "        with open(f) as t:\n",
    "            \n",
    "            text = t.read()\n",
    "            d = word_count(text)\n",
    "            tokens = sent_tokenize(text)\n",
    "            special_char = [c for c in text if not c.isalpha() and not c.isdigit() and c != '\\n' and c!=' ']\n",
    "            \n",
    "            # extracted[i]['file_name'] = f\n",
    "            extracted[i]['total word counts'] = sum(d.values())\n",
    "            extracted[i]['unique word counts'] = len(d.values())\n",
    "            extracted[i]['number of sentences'] = len(tokens)\n",
    "            extracted[i]['average length of sentences (characters)'] = sum(map(len, tokens))/len(tokens)\n",
    "            # extracted[i]['average length of sentences (words)'] = mean([len(s.split()) for s in tokens])\n",
    "            extracted[i]['special characters'] = len(special_char)\n",
    "    \n",
    "    return files, extracted\n",
    "\n",
    "\n",
    "import time\n",
    "t = time.time()\n",
    "f, result = read_text()\n",
    "print(f\"Files processed: {f}\", *result, sep='\\n\\n')\n",
    "print(f\"\\n===== {len(result)} files processed, total time taken: {time.time()-t}s =====\")"
   ]
  },
  {
   "cell_type": "code",
   "execution_count": null,
   "metadata": {},
   "outputs": [],
   "source": []
  }
 ],
 "metadata": {
  "kernelspec": {
   "display_name": "base",
   "language": "python",
   "name": "python3"
  },
  "language_info": {
   "codemirror_mode": {
    "name": "ipython",
    "version": 3
   },
   "file_extension": ".py",
   "mimetype": "text/x-python",
   "name": "python",
   "nbconvert_exporter": "python",
   "pygments_lexer": "ipython3",
   "version": "3.9.10"
  },
  "orig_nbformat": 4,
  "vscode": {
   "interpreter": {
    "hash": "c7cf1142b5ddd1e1daa93191adaf8330dff0916815175c263ce71424b6641312"
   }
  }
 },
 "nbformat": 4,
 "nbformat_minor": 2
}
