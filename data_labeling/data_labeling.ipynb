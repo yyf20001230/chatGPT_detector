{
 "cells": [
  {
   "cell_type": "code",
   "execution_count": 1,
   "metadata": {},
   "outputs": [
    {
     "name": "stderr",
     "output_type": "stream",
     "text": [
      "[nltk_data] Downloading package punkt to /Users/frank/nltk_data...\n",
      "[nltk_data]   Package punkt is already up-to-date!\n"
     ]
    }
   ],
   "source": [
    "import helpers"
   ]
  },
  {
   "cell_type": "code",
   "execution_count": 2,
   "metadata": {},
   "outputs": [
    {
     "name": "stdout",
     "output_type": "stream",
     "text": [
      "Files processed: ['test01.txt', 'test02.txt', 'test.txt']\n",
      "\n",
      "{'total word counts': 42, 'unique word counts': 35, 'number of sentences': 2, 'average length of sentences (characters)': 139.5, 'special characters': 3}\n",
      "\n",
      "{'total word counts': 41, 'unique word counts': 33, 'number of sentences': 3, 'average length of sentences (characters)': 92.33333333333333, 'special characters': 4}\n",
      "\n",
      "{'total word counts': 11, 'unique word counts': 8, 'number of sentences': 1, 'average length of sentences (characters)': 38.0, 'special characters': 2}\n",
      "\n",
      "===== 3 files processed, total time taken: 0.010455131530761719s =====\n"
     ]
    }
   ],
   "source": [
    "# TODO: Read the csv file saved from preprocessing step and convert it using the helpers.read_text function\n",
    "# You will probably need to modify the helpers.py function so that instead of reading txt files from the directory, \n",
    "# it reads from the csv file you generated from preprocessing step\n",
    "\n",
    "import time\n",
    "t = time.time()\n",
    "f, result = helpers.read_text()\n",
    "print(f\"Files processed: {f}\", *result, sep='\\n\\n')\n",
    "print(f\"\\n===== {len(result)} files processed, total time taken: {time.time()-t}s =====\")"
   ]
  },
  {
   "cell_type": "code",
   "execution_count": null,
   "metadata": {},
   "outputs": [],
   "source": [
    "# TODO: Save the result as another csv file for the training step"
   ]
  }
 ],
 "metadata": {
  "kernelspec": {
   "display_name": "base",
   "language": "python",
   "name": "python3"
  },
  "language_info": {
   "codemirror_mode": {
    "name": "ipython",
    "version": 3
   },
   "file_extension": ".py",
   "mimetype": "text/x-python",
   "name": "python",
   "nbconvert_exporter": "python",
   "pygments_lexer": "ipython3",
   "version": "3.8.3"
  },
  "orig_nbformat": 4,
  "vscode": {
   "interpreter": {
    "hash": "24b17b925cb255c3f5f9d44279af6acbce2f518dd20c49d83bc1f6775a53d6cb"
   }
  }
 },
 "nbformat": 4,
 "nbformat_minor": 2
}
