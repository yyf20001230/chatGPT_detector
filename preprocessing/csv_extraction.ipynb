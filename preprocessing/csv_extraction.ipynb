{
 "cells": [
  {
   "cell_type": "code",
   "execution_count": 1,
   "metadata": {},
   "outputs": [],
   "source": [
    "# Description: Extracting data from csv file and converting it into pandas dataframe\n",
    "import csv\n",
    "import pandas as pd"
   ]
  },
  {
   "cell_type": "code",
   "execution_count": 2,
   "metadata": {},
   "outputs": [],
   "source": [
    "# define a function to extract data from csv file\n",
    "# TODO: add a function to extract two specific columns (wiki_intro and generated_intro) from csv file\n",
    "def csv_extraction(file_path):\n",
    "    with open(file_path, 'r') as f:\n",
    "        reader = csv.reader(f)\n",
    "        data = list(reader)\n",
    "    return data\n",
    "\n",
    "# define a function to convert csv data into pandas dataframe\n",
    "def csv_to_dataframe(file_path):\n",
    "    data = csv_extraction(file_path)\n",
    "    df = pd.DataFrame(data[1:], columns=data[0])\n",
    "    return df"
   ]
  },
  {
   "cell_type": "code",
   "execution_count": 7,
   "metadata": {},
   "outputs": [
    {
     "name": "stdout",
     "output_type": "stream",
     "text": [
      "0    Sexhow railway station was a railway station b...\n",
      "1    In Finnish folklore, all places and things, an...\n",
      "2    In mathematics, specifically differential calc...\n",
      "3    is a Japanese shōjo manga series written and i...\n",
      "4    Robert Milner \"Rob\" Bradley, Jr. (born August ...\n",
      "Name: wiki_intro, dtype: object\n"
     ]
    }
   ],
   "source": [
    "# Path: ../../GPT-wiki-intro.csv\n",
    "# Dataset link: https://huggingface.co/datasets/aadityaubhat/GPT-wiki-intro\n",
    "df = csv_to_dataframe('../../GPT-wiki-intro.csv')\n",
    "print(df['wiki_intro'].head(5))"
   ]
  },
  {
   "cell_type": "code",
   "execution_count": null,
   "metadata": {},
   "outputs": [],
   "source": [
    "# TODO: Save the dataframe object into a csv file"
   ]
  }
 ],
 "metadata": {
  "kernelspec": {
   "display_name": "base",
   "language": "python",
   "name": "python3"
  },
  "language_info": {
   "codemirror_mode": {
    "name": "ipython",
    "version": 3
   },
   "file_extension": ".py",
   "mimetype": "text/x-python",
   "name": "python",
   "nbconvert_exporter": "python",
   "pygments_lexer": "ipython3",
   "version": "3.8.3"
  },
  "orig_nbformat": 4,
  "vscode": {
   "interpreter": {
    "hash": "24b17b925cb255c3f5f9d44279af6acbce2f518dd20c49d83bc1f6775a53d6cb"
   }
  }
 },
 "nbformat": 4,
 "nbformat_minor": 2
}
